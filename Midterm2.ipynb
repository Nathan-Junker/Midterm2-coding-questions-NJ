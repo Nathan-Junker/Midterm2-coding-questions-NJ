{
 "cells": [
  {
   "cell_type": "markdown",
   "id": "817470b9",
   "metadata": {},
   "source": [
    "# Midterm 2 coding Questions Total : 60 \n",
    "### 50 minute\n",
    "### Name-\n",
    "After complition submit it on Moodle using `GitHub` with in the assigned time \n"
   ]
  },
  {
   "cell_type": "markdown",
   "id": "8d611a3d",
   "metadata": {},
   "source": [
    "### Question 1. Print all of the numbers between 1 to 10 and square each numbers and append those to a new list\n",
    "- 5 points"
   ]
  },
  {
   "cell_type": "code",
   "execution_count": 7,
   "id": "d539c611",
   "metadata": {},
   "outputs": [
    {
     "name": "stdout",
     "output_type": "stream",
     "text": [
      "1\n",
      "2\n",
      "3\n",
      "4\n",
      "5\n",
      "6\n",
      "7\n",
      "8\n",
      "9\n",
      "10\n"
     ]
    }
   ],
   "source": [
    "list1=[]\n",
    "for x in range (1,11):\n",
    "    print(x)\n",
    "    list1.append(x**2)"
   ]
  },
  {
   "cell_type": "code",
   "execution_count": 8,
   "id": "27b90d4e",
   "metadata": {},
   "outputs": [
    {
     "data": {
      "text/plain": [
       "[1, 4, 9, 16, 25, 36, 49, 64, 81, 100]"
      ]
     },
     "execution_count": 8,
     "metadata": {},
     "output_type": "execute_result"
    }
   ],
   "source": [
    "list1"
   ]
  },
  {
   "cell_type": "markdown",
   "id": "8ef2873c",
   "metadata": {},
   "source": [
    "### Question 2. Create a list of 10 random numbers and find out minimum , maximum and total of teh list.\n",
    "* 5 + 3 = 8 points"
   ]
  },
  {
   "cell_type": "code",
   "execution_count": 140,
   "id": "45e5ee75",
   "metadata": {},
   "outputs": [
    {
     "data": {
      "text/plain": [
       "[7, 22, 96, 9, 94, 37, 39, 67, 87, 70]"
      ]
     },
     "execution_count": 140,
     "metadata": {},
     "output_type": "execute_result"
    }
   ],
   "source": [
    "import random\n",
    "random_numbers=[random.randint(1,100) for x in range(1,11)]\n",
    "random_numbers\n",
    "\n"
   ]
  },
  {
   "cell_type": "code",
   "execution_count": 144,
   "id": "9fd55eb4",
   "metadata": {
    "scrolled": true
   },
   "outputs": [
    {
     "name": "stdout",
     "output_type": "stream",
     "text": [
      "Max: 96\n",
      "Min: 7\n",
      "Sum: 528\n"
     ]
    }
   ],
   "source": [
    "print(\"Max:\",max(random_numbers))\n",
    "print(\"Min:\",min(random_numbers))\n",
    "print(\"Sum:\",sum(random_numbers))"
   ]
  },
  {
   "cell_type": "markdown",
   "id": "2ebd3676",
   "metadata": {},
   "source": [
    "### Question 3. Print `day` and `300` from the new_list\n",
    "new_list= [10, ['new', 300, [[3.141, 20],  345 ]], 'day' ]\n",
    "* 3 + 3 = 6 points"
   ]
  },
  {
   "cell_type": "code",
   "execution_count": 27,
   "id": "6a656b2c",
   "metadata": {},
   "outputs": [
    {
     "data": {
      "text/plain": [
       "'day'"
      ]
     },
     "execution_count": 27,
     "metadata": {},
     "output_type": "execute_result"
    }
   ],
   "source": [
    "new_list= [10, ['new', 300, [[3.141, 20], 345 ]], 'day' ]\n",
    "\n",
    "new_list[-1]"
   ]
  },
  {
   "cell_type": "code",
   "execution_count": 29,
   "id": "46f163c1",
   "metadata": {},
   "outputs": [
    {
     "data": {
      "text/plain": [
       "300"
      ]
     },
     "execution_count": 29,
     "metadata": {},
     "output_type": "execute_result"
    }
   ],
   "source": [
    "new_list= [10, ['new', 300, [[3.141, 20], 345 ]], 'day' ]\n",
    "new_list[1][1]"
   ]
  },
  {
   "cell_type": "markdown",
   "id": "68fd8f82",
   "metadata": {},
   "source": [
    "### Question 4.  College=(\"Bellarmine\", \"2001 Neuburg RD\")\n",
    "Print the `name` of the College.\n",
    "* 5 points"
   ]
  },
  {
   "cell_type": "code",
   "execution_count": 30,
   "id": "a56eca6f",
   "metadata": {},
   "outputs": [],
   "source": [
    "College=(\"Bellarmine\", \"2001 Neuburg RD\")\n",
    "name, address = College"
   ]
  },
  {
   "cell_type": "code",
   "execution_count": 31,
   "id": "7b7ba2d3",
   "metadata": {},
   "outputs": [
    {
     "name": "stdout",
     "output_type": "stream",
     "text": [
      "Bellarmine\n"
     ]
    }
   ],
   "source": [
    "print(name)"
   ]
  },
  {
   "cell_type": "markdown",
   "id": "3468dc38",
   "metadata": {},
   "source": [
    "### Question 5. In the United States as of 1995, minor is generally legally defined as a person under the age of 18. Write a code to check a student is minor or not. Verify the code by user input\n",
    "* 6 points"
   ]
  },
  {
   "cell_type": "code",
   "execution_count": 36,
   "id": "efebbcfd",
   "metadata": {},
   "outputs": [],
   "source": [
    "def check_if_minor():\n",
    "    age=int(input(\"Enter your age: \"))\n",
    "    if age >= 18:\n",
    "        print(\"Not a minor\")\n",
    "    elif age >=0 and age < 18:\n",
    "        print(\"Minor\")\n",
    "    else:\n",
    "        print(\"Please enter a valid age.\")"
   ]
  },
  {
   "cell_type": "code",
   "execution_count": 38,
   "id": "b4a00def",
   "metadata": {},
   "outputs": [
    {
     "name": "stdout",
     "output_type": "stream",
     "text": [
      "Enter your age: 17\n",
      "Minor\n"
     ]
    }
   ],
   "source": [
    "check_if_minor()"
   ]
  },
  {
   "cell_type": "code",
   "execution_count": 39,
   "id": "0803a1a6",
   "metadata": {},
   "outputs": [
    {
     "name": "stdout",
     "output_type": "stream",
     "text": [
      "Enter your age: 0\n",
      "Minor\n"
     ]
    }
   ],
   "source": [
    "check_if_minor()\n"
   ]
  },
  {
   "cell_type": "code",
   "execution_count": 41,
   "id": "4b60bdf0",
   "metadata": {},
   "outputs": [
    {
     "name": "stdout",
     "output_type": "stream",
     "text": [
      "Enter your age: -1\n",
      "Please enter a valid age.\n"
     ]
    }
   ],
   "source": [
    "check_if_minor()"
   ]
  },
  {
   "cell_type": "code",
   "execution_count": 43,
   "id": "112cdbd6",
   "metadata": {},
   "outputs": [
    {
     "name": "stdout",
     "output_type": "stream",
     "text": [
      "Enter your age: 18\n",
      "Not a minor\n"
     ]
    }
   ],
   "source": [
    "check_if_minor()\n"
   ]
  },
  {
   "cell_type": "code",
   "execution_count": 44,
   "id": "d7675024",
   "metadata": {},
   "outputs": [
    {
     "name": "stdout",
     "output_type": "stream",
     "text": [
      "Enter your age: 19\n",
      "Not a minor\n"
     ]
    }
   ],
   "source": [
    "check_if_minor()\n"
   ]
  },
  {
   "cell_type": "markdown",
   "id": "f84b9ccd",
   "metadata": {},
   "source": [
    "### Question 6. Get an input from user and check whether the number is `odd` and `greater than 10`. If not then comment\n",
    "* 5 points"
   ]
  },
  {
   "cell_type": "code",
   "execution_count": 57,
   "id": "1c59673a",
   "metadata": {},
   "outputs": [
    {
     "name": "stdout",
     "output_type": "stream",
     "text": [
      "Enter an integer: 13\n",
      "13 is greater than ten and odd\n"
     ]
    }
   ],
   "source": [
    "variable=int(input(\"Enter an integer: \"))\n",
    "if variable >10 and variable%2 == 1: #checks if greater than ten AND if also odd\n",
    "    print(f\"{variable} is greater than ten and odd\")\n",
    "    "
   ]
  },
  {
   "cell_type": "code",
   "execution_count": 45,
   "id": "3f1d3047",
   "metadata": {},
   "outputs": [
    {
     "data": {
      "text/plain": [
       "True"
      ]
     },
     "execution_count": 45,
     "metadata": {},
     "output_type": "execute_result"
    }
   ],
   "source": []
  },
  {
   "cell_type": "markdown",
   "id": "45951768",
   "metadata": {},
   "source": [
    "### Question 7. Get a user input and check the given number is multiple of 11 or not\n",
    "* 5 points"
   ]
  },
  {
   "cell_type": "code",
   "execution_count": 65,
   "id": "39bc4fb6",
   "metadata": {},
   "outputs": [
    {
     "name": "stdout",
     "output_type": "stream",
     "text": [
      "Enter an integer23\n",
      "23 is not a multiple of 11\n"
     ]
    }
   ],
   "source": [
    "number=int(input(\"Enter an integer\"))\n",
    "if number/11 == number//11:\n",
    "    print(f\"{number} is a multiple of 11\")\n",
    "else: \n",
    "    print(f\"{number} is not a multiple of 11\")\n",
    "    \n",
    "## includes 0 as a multiple of 11 and negatives too\n"
   ]
  },
  {
   "cell_type": "code",
   "execution_count": null,
   "id": "a8d685dc",
   "metadata": {},
   "outputs": [],
   "source": []
  },
  {
   "cell_type": "markdown",
   "id": "a0763abf",
   "metadata": {},
   "source": [
    "### Question 8. Convert the lists to dictionary\n",
    "* keys =  [10, 20, 30]\n",
    "* values =['Ten', 'Twenty', 'Thirty']\n",
    "* 4 points"
   ]
  },
  {
   "cell_type": "code",
   "execution_count": 119,
   "id": "e62f4e7c",
   "metadata": {},
   "outputs": [],
   "source": [
    "dictionary={}\n",
    "keys = [10, 20, 30]\n",
    "values =['Ten', 'Twenty', 'Thirty']\n",
    "for x in range(0,len(keys)):\n",
    "    dictionary[keys[x]]= values[x]"
   ]
  },
  {
   "cell_type": "code",
   "execution_count": 118,
   "id": "1280159f",
   "metadata": {},
   "outputs": [
    {
     "data": {
      "text/plain": [
       "{10: 'Ten', 20: 'Twenty', 30: 'Thirty'}"
      ]
     },
     "execution_count": 118,
     "metadata": {},
     "output_type": "execute_result"
    }
   ],
   "source": [
    "dictionary"
   ]
  },
  {
   "cell_type": "markdown",
   "id": "c2784d84",
   "metadata": {},
   "source": [
    "### Question 9. Write a function that can take `any arbitary numbers` as inputs and calculate the maximum of them. Check the function for two sets of inputs.\n",
    "* 2+2 points"
   ]
  },
  {
   "cell_type": "code",
   "execution_count": 88,
   "id": "f5654b0e",
   "metadata": {},
   "outputs": [],
   "source": [
    "def Maximum(*args):\n",
    "    return max(args)"
   ]
  },
  {
   "cell_type": "code",
   "execution_count": 90,
   "id": "327224c2",
   "metadata": {},
   "outputs": [
    {
     "data": {
      "text/plain": [
       "15837"
      ]
     },
     "execution_count": 90,
     "metadata": {},
     "output_type": "execute_result"
    }
   ],
   "source": [
    "Maximum(13,25,545,1532,1562,15837)\n"
   ]
  },
  {
   "cell_type": "code",
   "execution_count": 91,
   "id": "637145ef",
   "metadata": {},
   "outputs": [
    {
     "data": {
      "text/plain": [
       "3"
      ]
     },
     "execution_count": 91,
     "metadata": {},
     "output_type": "execute_result"
    }
   ],
   "source": [
    "Maximum(3,-14)"
   ]
  },
  {
   "cell_type": "code",
   "execution_count": null,
   "id": "6791e374",
   "metadata": {},
   "outputs": [],
   "source": []
  },
  {
   "cell_type": "markdown",
   "id": "c108c295",
   "metadata": {},
   "source": [
    "### Question 10. Write functions to find out Area and Perimeter of a square. Check the result for side = 10.\n",
    "\n",
    "* 3+3 points\n"
   ]
  },
  {
   "cell_type": "code",
   "execution_count": 93,
   "id": "a1ad705a",
   "metadata": {},
   "outputs": [],
   "source": [
    "def area_square(side):\n",
    "    area=side**2\n",
    "    return area\n",
    "def perimeter_square(side):\n",
    "    perimeter= side*4\n",
    "    return perimeter\n"
   ]
  },
  {
   "cell_type": "code",
   "execution_count": 95,
   "id": "13cc9893",
   "metadata": {},
   "outputs": [
    {
     "data": {
      "text/plain": [
       "100"
      ]
     },
     "execution_count": 95,
     "metadata": {},
     "output_type": "execute_result"
    }
   ],
   "source": [
    "area_square(10)"
   ]
  },
  {
   "cell_type": "code",
   "execution_count": 97,
   "id": "7423f59a",
   "metadata": {},
   "outputs": [
    {
     "data": {
      "text/plain": [
       "40"
      ]
     },
     "execution_count": 97,
     "metadata": {},
     "output_type": "execute_result"
    }
   ],
   "source": [
    "perimeter_square(10)"
   ]
  },
  {
   "cell_type": "markdown",
   "id": "a187f917",
   "metadata": {},
   "source": [
    "### Question 11. Write down two program using while and for loop that prints all of the number from 10 to 20 (included) \n",
    "* 3+3 points"
   ]
  },
  {
   "cell_type": "code",
   "execution_count": 121,
   "id": "5afcef79",
   "metadata": {},
   "outputs": [
    {
     "name": "stdout",
     "output_type": "stream",
     "text": [
      "10\n",
      "11\n",
      "12\n",
      "13\n",
      "14\n",
      "15\n",
      "16\n",
      "17\n",
      "18\n",
      "19\n",
      "20\n"
     ]
    }
   ],
   "source": [
    "flag=10\n",
    "while flag < 21:\n",
    "    print(flag)\n",
    "    flag+=1"
   ]
  },
  {
   "cell_type": "code",
   "execution_count": 100,
   "id": "eb21f8ce",
   "metadata": {},
   "outputs": [
    {
     "name": "stdout",
     "output_type": "stream",
     "text": [
      "10\n",
      "11\n",
      "12\n",
      "13\n",
      "14\n",
      "15\n",
      "16\n",
      "17\n",
      "18\n",
      "19\n",
      "20\n"
     ]
    }
   ],
   "source": [
    "for x in range (10,21):\n",
    "    print(x)"
   ]
  }
 ],
 "metadata": {
  "kernelspec": {
   "display_name": "Python 3 (ipykernel)",
   "language": "python",
   "name": "python3"
  },
  "language_info": {
   "codemirror_mode": {
    "name": "ipython",
    "version": 3
   },
   "file_extension": ".py",
   "mimetype": "text/x-python",
   "name": "python",
   "nbconvert_exporter": "python",
   "pygments_lexer": "ipython3",
   "version": "3.9.12"
  }
 },
 "nbformat": 4,
 "nbformat_minor": 5
}
